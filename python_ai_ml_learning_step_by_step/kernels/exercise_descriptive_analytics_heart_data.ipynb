{
 "cells": [
  {
   "cell_type": "markdown",
   "metadata": {},
   "source": [
    "Data set link : https://web.stanford.edu/~hastie/ElemStatLearn/datasets/SAheart.data\n",
    "\n",
    "A retrospective sample of males in a heart-disease high-risk region \n",
    "of the Western Cape, South Africa. There are roughly two controls per\n",
    "case of CHD. Many of the CHD positive men have undergone blood\n",
    "pressure reduction treatment and other programs to reduce their risk\n",
    "factors after their CHD event. In some cases the measurements were\n",
    "made after these treatments. These data are taken from a larger\n",
    "dataset, described in  Rousseauw et al, 1983, South African Medical\n",
    "Journal. \n",
    "\n",
    "\n",
    "sbp\t\tsystolic blood pressure\n",
    "\n",
    "tobacco\t\tcumulative tobacco (kg)\n",
    "\n",
    "ldl\t\tlow densiity lipoprotein cholesterol\n",
    "\n",
    "adiposity\n",
    "\n",
    "famhist\t\tfamily history of heart disease (Present, Absent)\n",
    "\n",
    "typea\t\ttype-A behavior\n",
    "\n",
    "\n",
    "obesity\n",
    "\n",
    "alcohol\t\tcurrent alcohol consumption\n",
    "\n",
    "age\t\tage at onset\n",
    "\n",
    "chd\t\tresponse, coronary heart disease"
   ]
  },
  {
   "cell_type": "code",
   "execution_count": 87,
   "metadata": {},
   "outputs": [],
   "source": [
    "import pandas as pd\n",
    "import matplotlib.pyplot as plt\n",
    "import seaborn as sns\n",
    "import os\n"
   ]
  },
  {
   "cell_type": "code",
   "execution_count": 88,
   "metadata": {},
   "outputs": [],
   "source": [
    "os.chdir(\"c:\\\\ml_using_python\\\\Data\")\n",
    "heart_data_dlf = pd.read_csv(\"SAheart.data\")"
   ]
  },
  {
   "cell_type": "code",
   "execution_count": 89,
   "metadata": {},
   "outputs": [
    {
     "data": {
      "text/html": [
       "<div>\n",
       "<style scoped>\n",
       "    .dataframe tbody tr th:only-of-type {\n",
       "        vertical-align: middle;\n",
       "    }\n",
       "\n",
       "    .dataframe tbody tr th {\n",
       "        vertical-align: top;\n",
       "    }\n",
       "\n",
       "    .dataframe thead th {\n",
       "        text-align: right;\n",
       "    }\n",
       "</style>\n",
       "<table border=\"1\" class=\"dataframe\">\n",
       "  <thead>\n",
       "    <tr style=\"text-align: right;\">\n",
       "      <th></th>\n",
       "      <th>row.names</th>\n",
       "      <th>sbp</th>\n",
       "      <th>tobacco</th>\n",
       "      <th>ldl</th>\n",
       "      <th>adiposity</th>\n",
       "      <th>famhist</th>\n",
       "      <th>typea</th>\n",
       "      <th>obesity</th>\n",
       "      <th>alcohol</th>\n",
       "      <th>age</th>\n",
       "      <th>chd</th>\n",
       "    </tr>\n",
       "  </thead>\n",
       "  <tbody>\n",
       "    <tr>\n",
       "      <th>192</th>\n",
       "      <td>193</td>\n",
       "      <td>102</td>\n",
       "      <td>0.40</td>\n",
       "      <td>3.41</td>\n",
       "      <td>17.22</td>\n",
       "      <td>Present</td>\n",
       "      <td>56</td>\n",
       "      <td>23.59</td>\n",
       "      <td>2.06</td>\n",
       "      <td>39</td>\n",
       "      <td>1</td>\n",
       "    </tr>\n",
       "    <tr>\n",
       "      <th>358</th>\n",
       "      <td>360</td>\n",
       "      <td>132</td>\n",
       "      <td>4.05</td>\n",
       "      <td>5.15</td>\n",
       "      <td>26.51</td>\n",
       "      <td>Present</td>\n",
       "      <td>31</td>\n",
       "      <td>26.67</td>\n",
       "      <td>16.30</td>\n",
       "      <td>50</td>\n",
       "      <td>0</td>\n",
       "    </tr>\n",
       "    <tr>\n",
       "      <th>427</th>\n",
       "      <td>429</td>\n",
       "      <td>146</td>\n",
       "      <td>1.16</td>\n",
       "      <td>2.28</td>\n",
       "      <td>34.53</td>\n",
       "      <td>Absent</td>\n",
       "      <td>50</td>\n",
       "      <td>28.71</td>\n",
       "      <td>45.00</td>\n",
       "      <td>49</td>\n",
       "      <td>0</td>\n",
       "    </tr>\n",
       "    <tr>\n",
       "      <th>258</th>\n",
       "      <td>259</td>\n",
       "      <td>138</td>\n",
       "      <td>12.00</td>\n",
       "      <td>5.13</td>\n",
       "      <td>28.34</td>\n",
       "      <td>Absent</td>\n",
       "      <td>59</td>\n",
       "      <td>24.49</td>\n",
       "      <td>32.81</td>\n",
       "      <td>58</td>\n",
       "      <td>1</td>\n",
       "    </tr>\n",
       "    <tr>\n",
       "      <th>201</th>\n",
       "      <td>202</td>\n",
       "      <td>136</td>\n",
       "      <td>3.15</td>\n",
       "      <td>4.37</td>\n",
       "      <td>20.22</td>\n",
       "      <td>Present</td>\n",
       "      <td>59</td>\n",
       "      <td>25.12</td>\n",
       "      <td>47.16</td>\n",
       "      <td>31</td>\n",
       "      <td>1</td>\n",
       "    </tr>\n",
       "    <tr>\n",
       "      <th>445</th>\n",
       "      <td>447</td>\n",
       "      <td>136</td>\n",
       "      <td>2.80</td>\n",
       "      <td>2.53</td>\n",
       "      <td>9.28</td>\n",
       "      <td>Present</td>\n",
       "      <td>61</td>\n",
       "      <td>20.70</td>\n",
       "      <td>4.55</td>\n",
       "      <td>25</td>\n",
       "      <td>0</td>\n",
       "    </tr>\n",
       "    <tr>\n",
       "      <th>142</th>\n",
       "      <td>143</td>\n",
       "      <td>128</td>\n",
       "      <td>2.80</td>\n",
       "      <td>5.53</td>\n",
       "      <td>14.29</td>\n",
       "      <td>Absent</td>\n",
       "      <td>64</td>\n",
       "      <td>24.97</td>\n",
       "      <td>0.51</td>\n",
       "      <td>38</td>\n",
       "      <td>0</td>\n",
       "    </tr>\n",
       "    <tr>\n",
       "      <th>399</th>\n",
       "      <td>401</td>\n",
       "      <td>126</td>\n",
       "      <td>0.00</td>\n",
       "      <td>3.57</td>\n",
       "      <td>26.01</td>\n",
       "      <td>Absent</td>\n",
       "      <td>61</td>\n",
       "      <td>26.30</td>\n",
       "      <td>7.97</td>\n",
       "      <td>47</td>\n",
       "      <td>0</td>\n",
       "    </tr>\n",
       "    <tr>\n",
       "      <th>157</th>\n",
       "      <td>158</td>\n",
       "      <td>174</td>\n",
       "      <td>9.45</td>\n",
       "      <td>5.13</td>\n",
       "      <td>35.54</td>\n",
       "      <td>Absent</td>\n",
       "      <td>55</td>\n",
       "      <td>30.71</td>\n",
       "      <td>59.79</td>\n",
       "      <td>53</td>\n",
       "      <td>0</td>\n",
       "    </tr>\n",
       "    <tr>\n",
       "      <th>107</th>\n",
       "      <td>108</td>\n",
       "      <td>170</td>\n",
       "      <td>7.60</td>\n",
       "      <td>5.50</td>\n",
       "      <td>37.83</td>\n",
       "      <td>Present</td>\n",
       "      <td>42</td>\n",
       "      <td>37.41</td>\n",
       "      <td>6.17</td>\n",
       "      <td>54</td>\n",
       "      <td>1</td>\n",
       "    </tr>\n",
       "  </tbody>\n",
       "</table>\n",
       "</div>"
      ],
      "text/plain": [
       "     row.names  sbp  tobacco   ldl  adiposity  famhist  typea  obesity  \\\n",
       "192        193  102     0.40  3.41      17.22  Present     56    23.59   \n",
       "358        360  132     4.05  5.15      26.51  Present     31    26.67   \n",
       "427        429  146     1.16  2.28      34.53   Absent     50    28.71   \n",
       "258        259  138    12.00  5.13      28.34   Absent     59    24.49   \n",
       "201        202  136     3.15  4.37      20.22  Present     59    25.12   \n",
       "445        447  136     2.80  2.53       9.28  Present     61    20.70   \n",
       "142        143  128     2.80  5.53      14.29   Absent     64    24.97   \n",
       "399        401  126     0.00  3.57      26.01   Absent     61    26.30   \n",
       "157        158  174     9.45  5.13      35.54   Absent     55    30.71   \n",
       "107        108  170     7.60  5.50      37.83  Present     42    37.41   \n",
       "\n",
       "     alcohol  age  chd  \n",
       "192     2.06   39    1  \n",
       "358    16.30   50    0  \n",
       "427    45.00   49    0  \n",
       "258    32.81   58    1  \n",
       "201    47.16   31    1  \n",
       "445     4.55   25    0  \n",
       "142     0.51   38    0  \n",
       "399     7.97   47    0  \n",
       "157    59.79   53    0  \n",
       "107     6.17   54    1  "
      ]
     },
     "execution_count": 89,
     "metadata": {},
     "output_type": "execute_result"
    }
   ],
   "source": [
    "heart_data_dlf.sample(10)"
   ]
  },
  {
   "cell_type": "markdown",
   "metadata": {},
   "source": [
    "# 1. How many records are present in the data set and also print the metadata information"
   ]
  },
  {
   "cell_type": "code",
   "execution_count": 90,
   "metadata": {},
   "outputs": [
    {
     "name": "stdout",
     "output_type": "stream",
     "text": [
      "no of records present  = 462\n"
     ]
    }
   ],
   "source": [
    "print(\"no of records present  =\", heart_data_dlf.shape[0])"
   ]
  },
  {
   "cell_type": "code",
   "execution_count": 91,
   "metadata": {},
   "outputs": [
    {
     "name": "stdout",
     "output_type": "stream",
     "text": [
      "<class 'pandas.core.frame.DataFrame'>\n",
      "RangeIndex: 462 entries, 0 to 461\n",
      "Data columns (total 11 columns):\n",
      "row.names    462 non-null int64\n",
      "sbp          462 non-null int64\n",
      "tobacco      462 non-null float64\n",
      "ldl          462 non-null float64\n",
      "adiposity    462 non-null float64\n",
      "famhist      462 non-null object\n",
      "typea        462 non-null int64\n",
      "obesity      462 non-null float64\n",
      "alcohol      462 non-null float64\n",
      "age          462 non-null int64\n",
      "chd          462 non-null int64\n",
      "dtypes: float64(5), int64(5), object(1)\n",
      "memory usage: 39.8+ KB\n"
     ]
    }
   ],
   "source": [
    "heart_data_dlf.info()"
   ]
  },
  {
   "cell_type": "markdown",
   "metadata": {},
   "source": [
    "# 2. Draw a bar plot to show the number of persons having chd or not in comparison to they having family historyof the diesease or not?"
   ]
  },
  {
   "cell_type": "code",
   "execution_count": 92,
   "metadata": {},
   "outputs": [
    {
     "data": {
      "text/plain": [
       "<matplotlib.axes._subplots.AxesSubplot at 0x23c41f7a940>"
      ]
     },
     "execution_count": 92,
     "metadata": {},
     "output_type": "execute_result"
    },
    {
     "data": {
      "image/png": "[encoded data removed]",
      "text/plain": [
       "<Figure size 432x288 with 1 Axes>"
      ]
     },
     "metadata": {
      "needs_background": "light"
     },
     "output_type": "display_data"
    }
   ],
   "source": [
    "sns.countplot(heart_data_dlf['chd'], hue =heart_data_dlf['famhist'] )"
   ]
  },
  {
   "cell_type": "markdown",
   "metadata": {},
   "source": [
    "# 3. Does age have any correlation with sbp? choose appropriate graph to show correlation"
   ]
  },
  {
   "cell_type": "code",
   "execution_count": 93,
   "metadata": {},
   "outputs": [],
   "source": [
    "corr_matrix = heart_data_dlf.corr()"
   ]
  },
  {
   "cell_type": "code",
   "execution_count": 94,
   "metadata": {},
   "outputs": [
    {
     "data": {
      "text/plain": [
       "row.names    0.171583\n",
       "sbp          1.000000\n",
       "tobacco      0.212247\n",
       "ldl          0.158296\n",
       "adiposity    0.356500\n",
       "typea       -0.057454\n",
       "obesity      0.238067\n",
       "alcohol      0.140096\n",
       "age          0.388771\n",
       "chd          0.192354\n",
       "Name: sbp, dtype: float64"
      ]
     },
     "execution_count": 94,
     "metadata": {},
     "output_type": "execute_result"
    }
   ],
   "source": [
    "corr_matrix['sbp']"
   ]
  },
  {
   "cell_type": "code",
   "execution_count": 95,
   "metadata": {},
   "outputs": [
    {
     "data": {
      "text/plain": [
       "<matplotlib.axes._subplots.AxesSubplot at 0x23c42168c50>"
      ]
     },
     "execution_count": 95,
     "metadata": {},
     "output_type": "execute_result"
    },
    {
     "data": {
      "image/png": "[encoded data removed]",
      "text/plain": [
       "<Figure size 432x288 with 2 Axes>"
      ]
     },
     "metadata": {
      "needs_background": "light"
     },
     "output_type": "display_data"
    }
   ],
   "source": [
    "sns.heatmap(corr_matrix, annot=True)"
   ]
  },
  {
   "cell_type": "markdown",
   "metadata": {},
   "source": [
    "__sbp and age have +ve correlation with a value of 0.39__"
   ]
  },
  {
   "cell_type": "markdown",
   "metadata": {},
   "source": [
    "# 4. Compare the distribution of tobacco  consumptions for persons having CHD and not having CHD? can you interpret the effect of tobacco vs chd coronary heart disease"
   ]
  },
  {
   "cell_type": "code",
   "execution_count": 96,
   "metadata": {},
   "outputs": [
    {
     "data": {
      "text/plain": [
       "<seaborn.axisgrid.PairGrid at 0x23c4475c5c0>"
      ]
     },
     "execution_count": 96,
     "metadata": {},
     "output_type": "execute_result"
    },
    {
     "data": {
      "image/png": "[encoded data removed]",
      "text/plain": [
       "<Figure size 360x360 with 6 Axes>"
      ]
     },
     "metadata": {
      "needs_background": "light"
     },
     "output_type": "display_data"
    }
   ],
   "source": [
    "dist_cols = ['tobacco','chd']\n",
    "sns.pairplot(heart_data_dlf[dist_cols])"
   ]
  },
  {
   "cell_type": "code",
   "execution_count": 98,
   "metadata": {},
   "outputs": [
    {
     "data": {
      "text/plain": [
       "<matplotlib.axes._subplots.AxesSubplot at 0x23c44a45fd0>"
      ]
     },
     "execution_count": 98,
     "metadata": {},
     "output_type": "execute_result"
    },
    {
     "data": {
      "image/png": "[encoded data removed]",
      "text/plain": [
       "<Figure size 432x288 with 1 Axes>"
      ]
     },
     "metadata": {
      "needs_background": "light"
     },
     "output_type": "display_data"
    }
   ],
   "source": [
    "sns.distplot(heart_data_dlf.tobacco,color='Red')\n",
    "sns.distplot(heart_data_dlf.chd,color='blue')"
   ]
  },
  {
   "cell_type": "code",
   "execution_count": 99,
   "metadata": {},
   "outputs": [
    {
     "data": {
      "text/plain": [
       "<matplotlib.axes._subplots.AxesSubplot at 0x23c44ae0e10>"
      ]
     },
     "execution_count": 99,
     "metadata": {},
     "output_type": "execute_result"
    },
    {
     "data": {
      "image/png": "[encoded data removed]",
      "text/plain": [
       "<Figure size 432x288 with 1 Axes>"
      ]
     },
     "metadata": {
      "needs_background": "light"
     },
     "output_type": "display_data"
    }
   ],
   "source": [
    "sns.scatterplot(x='chd',y='tobacco',data=heart_data_dlf)"
   ]
  },
  {
   "cell_type": "markdown",
   "metadata": {},
   "source": [
    "# 5. How are the parameters sbp,obesity,age and Idl are correlated?use appropriate graphs"
   ]
  },
  {
   "cell_type": "code",
   "execution_count": 100,
   "metadata": {},
   "outputs": [],
   "source": [
    "cor_colums= ['ldl','obesity','age','sbp']\n",
    "\n",
    "corr_matrix = heart_data_dlf[cor_colums].corr()"
   ]
  },
  {
   "cell_type": "code",
   "execution_count": 101,
   "metadata": {},
   "outputs": [
    {
     "data": {
      "text/plain": [
       "<matplotlib.axes._subplots.AxesSubplot at 0x23c44b4b278>"
      ]
     },
     "execution_count": 101,
     "metadata": {},
     "output_type": "execute_result"
    },
    {
     "data": {
      "image/png": "[encoded data removed]",
      "text/plain": [
       "<Figure size 432x288 with 2 Axes>"
      ]
     },
     "metadata": {
      "needs_background": "light"
     },
     "output_type": "display_data"
    }
   ],
   "source": [
    "sns.heatmap(corr_matrix, annot=True)"
   ]
  },
  {
   "cell_type": "markdown",
   "metadata": {},
   "source": [
    "# 6 Derive the new column called agegroup from age column\n",
    "0-15 young\n",
    "15-35 adults\n",
    "35-55 mid\n",
    "55-   old"
   ]
  },
  {
   "cell_type": "code",
   "execution_count": 105,
   "metadata": {},
   "outputs": [],
   "source": [
    "def catergorise(age):\n",
    "    if(age<=15):\n",
    "        return \"young\"\n",
    "    elif(age>16 and age<=35):\n",
    "        return \"adult\"\n",
    "    elif(age>36 and age<=55):\n",
    "        return \"mid\"\n",
    "    elif(age>55):\n",
    "        return \"old\"\n"
   ]
  },
  {
   "cell_type": "code",
   "execution_count": 106,
   "metadata": {},
   "outputs": [],
   "source": [
    "heart_data_dlf['age_group'] = heart_data_dlf['age'].apply(lambda rec: (catergorise(rec)))"
   ]
  },
  {
   "cell_type": "code",
   "execution_count": 109,
   "metadata": {},
   "outputs": [
    {
     "data": {
      "text/html": [
       "<div>\n",
       "<style scoped>\n",
       "    .dataframe tbody tr th:only-of-type {\n",
       "        vertical-align: middle;\n",
       "    }\n",
       "\n",
       "    .dataframe tbody tr th {\n",
       "        vertical-align: top;\n",
       "    }\n",
       "\n",
       "    .dataframe thead th {\n",
       "        text-align: right;\n",
       "    }\n",
       "</style>\n",
       "<table border=\"1\" class=\"dataframe\">\n",
       "  <thead>\n",
       "    <tr style=\"text-align: right;\">\n",
       "      <th></th>\n",
       "      <th>row.names</th>\n",
       "      <th>sbp</th>\n",
       "      <th>tobacco</th>\n",
       "      <th>ldl</th>\n",
       "      <th>adiposity</th>\n",
       "      <th>famhist</th>\n",
       "      <th>typea</th>\n",
       "      <th>obesity</th>\n",
       "      <th>alcohol</th>\n",
       "      <th>age</th>\n",
       "      <th>chd</th>\n",
       "      <th>age_group</th>\n",
       "    </tr>\n",
       "  </thead>\n",
       "  <tbody>\n",
       "    <tr>\n",
       "      <th>167</th>\n",
       "      <td>168</td>\n",
       "      <td>160</td>\n",
       "      <td>1.52</td>\n",
       "      <td>8.12</td>\n",
       "      <td>29.30</td>\n",
       "      <td>Present</td>\n",
       "      <td>54</td>\n",
       "      <td>25.87</td>\n",
       "      <td>12.86</td>\n",
       "      <td>43</td>\n",
       "      <td>1</td>\n",
       "      <td>mid</td>\n",
       "    </tr>\n",
       "    <tr>\n",
       "      <th>179</th>\n",
       "      <td>180</td>\n",
       "      <td>108</td>\n",
       "      <td>15.00</td>\n",
       "      <td>4.91</td>\n",
       "      <td>34.65</td>\n",
       "      <td>Absent</td>\n",
       "      <td>41</td>\n",
       "      <td>27.96</td>\n",
       "      <td>14.40</td>\n",
       "      <td>56</td>\n",
       "      <td>0</td>\n",
       "      <td>old</td>\n",
       "    </tr>\n",
       "    <tr>\n",
       "      <th>11</th>\n",
       "      <td>12</td>\n",
       "      <td>134</td>\n",
       "      <td>14.10</td>\n",
       "      <td>4.44</td>\n",
       "      <td>22.39</td>\n",
       "      <td>Present</td>\n",
       "      <td>65</td>\n",
       "      <td>23.09</td>\n",
       "      <td>0.00</td>\n",
       "      <td>40</td>\n",
       "      <td>1</td>\n",
       "      <td>mid</td>\n",
       "    </tr>\n",
       "    <tr>\n",
       "      <th>427</th>\n",
       "      <td>429</td>\n",
       "      <td>146</td>\n",
       "      <td>1.16</td>\n",
       "      <td>2.28</td>\n",
       "      <td>34.53</td>\n",
       "      <td>Absent</td>\n",
       "      <td>50</td>\n",
       "      <td>28.71</td>\n",
       "      <td>45.00</td>\n",
       "      <td>49</td>\n",
       "      <td>0</td>\n",
       "      <td>mid</td>\n",
       "    </tr>\n",
       "    <tr>\n",
       "      <th>216</th>\n",
       "      <td>217</td>\n",
       "      <td>180</td>\n",
       "      <td>0.52</td>\n",
       "      <td>4.23</td>\n",
       "      <td>16.38</td>\n",
       "      <td>Absent</td>\n",
       "      <td>55</td>\n",
       "      <td>22.56</td>\n",
       "      <td>14.77</td>\n",
       "      <td>45</td>\n",
       "      <td>1</td>\n",
       "      <td>mid</td>\n",
       "    </tr>\n",
       "    <tr>\n",
       "      <th>136</th>\n",
       "      <td>137</td>\n",
       "      <td>116</td>\n",
       "      <td>2.70</td>\n",
       "      <td>3.69</td>\n",
       "      <td>13.52</td>\n",
       "      <td>Absent</td>\n",
       "      <td>55</td>\n",
       "      <td>21.13</td>\n",
       "      <td>18.51</td>\n",
       "      <td>32</td>\n",
       "      <td>0</td>\n",
       "      <td>adult</td>\n",
       "    </tr>\n",
       "    <tr>\n",
       "      <th>308</th>\n",
       "      <td>310</td>\n",
       "      <td>142</td>\n",
       "      <td>2.40</td>\n",
       "      <td>2.55</td>\n",
       "      <td>23.89</td>\n",
       "      <td>Absent</td>\n",
       "      <td>54</td>\n",
       "      <td>26.09</td>\n",
       "      <td>59.14</td>\n",
       "      <td>37</td>\n",
       "      <td>0</td>\n",
       "      <td>mid</td>\n",
       "    </tr>\n",
       "    <tr>\n",
       "      <th>55</th>\n",
       "      <td>56</td>\n",
       "      <td>152</td>\n",
       "      <td>5.99</td>\n",
       "      <td>7.99</td>\n",
       "      <td>32.48</td>\n",
       "      <td>Absent</td>\n",
       "      <td>45</td>\n",
       "      <td>26.57</td>\n",
       "      <td>100.32</td>\n",
       "      <td>48</td>\n",
       "      <td>0</td>\n",
       "      <td>mid</td>\n",
       "    </tr>\n",
       "    <tr>\n",
       "      <th>361</th>\n",
       "      <td>363</td>\n",
       "      <td>124</td>\n",
       "      <td>0.40</td>\n",
       "      <td>3.67</td>\n",
       "      <td>25.76</td>\n",
       "      <td>Absent</td>\n",
       "      <td>43</td>\n",
       "      <td>28.08</td>\n",
       "      <td>20.57</td>\n",
       "      <td>34</td>\n",
       "      <td>0</td>\n",
       "      <td>adult</td>\n",
       "    </tr>\n",
       "    <tr>\n",
       "      <th>100</th>\n",
       "      <td>101</td>\n",
       "      <td>136</td>\n",
       "      <td>8.00</td>\n",
       "      <td>7.85</td>\n",
       "      <td>23.81</td>\n",
       "      <td>Present</td>\n",
       "      <td>51</td>\n",
       "      <td>22.69</td>\n",
       "      <td>2.78</td>\n",
       "      <td>50</td>\n",
       "      <td>0</td>\n",
       "      <td>mid</td>\n",
       "    </tr>\n",
       "  </tbody>\n",
       "</table>\n",
       "</div>"
      ],
      "text/plain": [
       "     row.names  sbp  tobacco   ldl  adiposity  famhist  typea  obesity  \\\n",
       "167        168  160     1.52  8.12      29.30  Present     54    25.87   \n",
       "179        180  108    15.00  4.91      34.65   Absent     41    27.96   \n",
       "11          12  134    14.10  4.44      22.39  Present     65    23.09   \n",
       "427        429  146     1.16  2.28      34.53   Absent     50    28.71   \n",
       "216        217  180     0.52  4.23      16.38   Absent     55    22.56   \n",
       "136        137  116     2.70  3.69      13.52   Absent     55    21.13   \n",
       "308        310  142     2.40  2.55      23.89   Absent     54    26.09   \n",
       "55          56  152     5.99  7.99      32.48   Absent     45    26.57   \n",
       "361        363  124     0.40  3.67      25.76   Absent     43    28.08   \n",
       "100        101  136     8.00  7.85      23.81  Present     51    22.69   \n",
       "\n",
       "     alcohol  age  chd age_group  \n",
       "167    12.86   43    1       mid  \n",
       "179    14.40   56    0       old  \n",
       "11      0.00   40    1       mid  \n",
       "427    45.00   49    0       mid  \n",
       "216    14.77   45    1       mid  \n",
       "136    18.51   32    0     adult  \n",
       "308    59.14   37    0       mid  \n",
       "55    100.32   48    0       mid  \n",
       "361    20.57   34    0     adult  \n",
       "100     2.78   50    0       mid  "
      ]
     },
     "execution_count": 109,
     "metadata": {},
     "output_type": "execute_result"
    }
   ],
   "source": [
    "heart_data_dlf.sample(10)"
   ]
  },
  {
   "cell_type": "code",
   "execution_count": 122,
   "metadata": {},
   "outputs": [
    {
     "data": {
      "text/html": [
       "<div>\n",
       "<style scoped>\n",
       "    .dataframe tbody tr th:only-of-type {\n",
       "        vertical-align: middle;\n",
       "    }\n",
       "\n",
       "    .dataframe tbody tr th {\n",
       "        vertical-align: top;\n",
       "    }\n",
       "\n",
       "    .dataframe thead th {\n",
       "        text-align: right;\n",
       "    }\n",
       "</style>\n",
       "<table border=\"1\" class=\"dataframe\">\n",
       "  <thead>\n",
       "    <tr style=\"text-align: right;\">\n",
       "      <th></th>\n",
       "      <th>row.names</th>\n",
       "      <th>sbp</th>\n",
       "      <th>tobacco</th>\n",
       "      <th>ldl</th>\n",
       "      <th>adiposity</th>\n",
       "      <th>famhist</th>\n",
       "      <th>typea</th>\n",
       "      <th>obesity</th>\n",
       "      <th>alcohol</th>\n",
       "      <th>age</th>\n",
       "      <th>chd</th>\n",
       "      <th>age_group</th>\n",
       "    </tr>\n",
       "  </thead>\n",
       "  <tbody>\n",
       "    <tr>\n",
       "      <th>13</th>\n",
       "      <td>14</td>\n",
       "      <td>132</td>\n",
       "      <td>0.0</td>\n",
       "      <td>1.87</td>\n",
       "      <td>17.21</td>\n",
       "      <td>Absent</td>\n",
       "      <td>49</td>\n",
       "      <td>23.63</td>\n",
       "      <td>0.97</td>\n",
       "      <td>15</td>\n",
       "      <td>0</td>\n",
       "      <td>young</td>\n",
       "    </tr>\n",
       "    <tr>\n",
       "      <th>42</th>\n",
       "      <td>43</td>\n",
       "      <td>120</td>\n",
       "      <td>0.0</td>\n",
       "      <td>1.07</td>\n",
       "      <td>16.02</td>\n",
       "      <td>Absent</td>\n",
       "      <td>47</td>\n",
       "      <td>22.15</td>\n",
       "      <td>0.00</td>\n",
       "      <td>15</td>\n",
       "      <td>0</td>\n",
       "      <td>young</td>\n",
       "    </tr>\n",
       "    <tr>\n",
       "      <th>70</th>\n",
       "      <td>71</td>\n",
       "      <td>118</td>\n",
       "      <td>0.0</td>\n",
       "      <td>3.67</td>\n",
       "      <td>12.13</td>\n",
       "      <td>Absent</td>\n",
       "      <td>51</td>\n",
       "      <td>19.15</td>\n",
       "      <td>0.60</td>\n",
       "      <td>15</td>\n",
       "      <td>0</td>\n",
       "      <td>young</td>\n",
       "    </tr>\n",
       "  </tbody>\n",
       "</table>\n",
       "</div>"
      ],
      "text/plain": [
       "    row.names  sbp  tobacco   ldl  adiposity famhist  typea  obesity  alcohol  \\\n",
       "13         14  132      0.0  1.87      17.21  Absent     49    23.63     0.97   \n",
       "42         43  120      0.0  1.07      16.02  Absent     47    22.15     0.00   \n",
       "70         71  118      0.0  3.67      12.13  Absent     51    19.15     0.60   \n",
       "\n",
       "    age  chd age_group  \n",
       "13   15    0     young  \n",
       "42   15    0     young  \n",
       "70   15    0     young  "
      ]
     },
     "execution_count": 122,
     "metadata": {},
     "output_type": "execute_result"
    }
   ],
   "source": [
    "heart_data_dlf[heart_data_dlf['age_group']=='young']"
   ]
  },
  {
   "cell_type": "markdown",
   "metadata": {},
   "source": [
    "# 7. Find the number of CHD cases under different age_groups"
   ]
  },
  {
   "cell_type": "code",
   "execution_count": 110,
   "metadata": {},
   "outputs": [
    {
     "data": {
      "text/plain": [
       "<matplotlib.axes._subplots.AxesSubplot at 0x23c44bcb358>"
      ]
     },
     "execution_count": 110,
     "metadata": {},
     "output_type": "execute_result"
    },
    {
     "data": {
      "image/png": "[encoded data removed]",
      "text/plain": [
       "<Figure size 432x288 with 1 Axes>"
      ]
     },
     "metadata": {
      "needs_background": "light"
     },
     "output_type": "display_data"
    }
   ],
   "source": [
    "sns.barplot(x='age_group',y='chd',data=heart_data_dlf)"
   ]
  },
  {
   "cell_type": "code",
   "execution_count": 118,
   "metadata": {},
   "outputs": [
    {
     "data": {
      "text/plain": [
       "age_group  chd\n",
       "adult      0      103\n",
       "           1       18\n",
       "mid        0      121\n",
       "           1       80\n",
       "old        1       61\n",
       "           0       53\n",
       "young      0        3\n",
       "Name: chd, dtype: int64"
      ]
     },
     "execution_count": 118,
     "metadata": {},
     "output_type": "execute_result"
    }
   ],
   "source": [
    "heart_data_dlf.groupby('age_group')['chd'].value_counts()"
   ]
  },
  {
   "cell_type": "markdown",
   "metadata": {},
   "source": [
    "# 8.Draw boxplot to compare distributions of ldl across age groups"
   ]
  },
  {
   "cell_type": "code",
   "execution_count": 123,
   "metadata": {},
   "outputs": [
    {
     "data": {
      "text/plain": [
       "<matplotlib.axes._subplots.AxesSubplot at 0x23c44dd70f0>"
      ]
     },
     "execution_count": 123,
     "metadata": {},
     "output_type": "execute_result"
    },
    {
     "data": {
      "image/png": "[encoded data removed]",
      "text/plain": [
       "<Figure size 432x288 with 1 Axes>"
      ]
     },
     "metadata": {
      "needs_background": "light"
     },
     "output_type": "display_data"
    }
   ],
   "source": [
    "heart_data_dlf.boxplot(column='ldl',by='age_group')"
   ]
  },
  {
   "cell_type": "code",
   "execution_count": 132,
   "metadata": {},
   "outputs": [
    {
     "data": {
      "text/plain": [
       "<matplotlib.axes._subplots.AxesSubplot at 0x23c46758828>"
      ]
     },
     "execution_count": 132,
     "metadata": {},
     "output_type": "execute_result"
    },
    {
     "data": {
      "image/png": "[encoded data removed]",
      "text/plain": [
       "<Figure size 432x288 with 1 Axes>"
      ]
     },
     "metadata": {
      "needs_background": "light"
     },
     "output_type": "display_data"
    }
   ],
   "source": [
    "sns.boxplot(x='age_group',y='ldl',data=heart_data_dlf)"
   ]
  },
  {
   "cell_type": "code",
   "execution_count": null,
   "metadata": {},
   "outputs": [],
   "source": []
  }
 ],
 "metadata": {
  "kernelspec": {
   "display_name": "Python 3",
   "language": "python",
   "name": "python3"
  },
  "language_info": {
   "codemirror_mode": {
    "name": "ipython",
    "version": 3
   },
   "file_extension": ".py",
   "mimetype": "text/x-python",
   "name": "python",
   "nbconvert_exporter": "python",
   "pygments_lexer": "ipython3",
   "version": "3.7.3"
  }
 },
 "nbformat": 4,
 "nbformat_minor": 2
}
